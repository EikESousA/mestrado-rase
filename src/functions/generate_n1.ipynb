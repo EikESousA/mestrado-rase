{
 "cells": [
  {
   "cell_type": "code",
   "execution_count": null,
   "metadata": {},
   "outputs": [
    {
     "name": "stdout",
     "output_type": "stream",
     "text": [
      "As entradas devem estar acessíveis.\n",
      "----------------------------------------------------------------------\n",
      "Os acessos devem ser vinculados através da rota acessível à circulação principal e às circulações de emergência.\n",
      "Os acessos devem permanecer livres de qualquer obstáculo em forma permanente.\n"
     ]
    }
   ],
   "source": [
    "from langchain_ollama import OllamaLLM\n",
    "from langchain_core.prompts import ChatPromptTemplate\n",
    "\n",
    "template = \"\"\"\n",
    "A metodologia **RASE N1** transforma textos em unidades menores, onde cada unidade contém **apenas uma única regra computável** com métricas claras.  \n",
    "\n",
    "### **Instruções:**  \n",
    "1. **Divida o texto** em sentenças curtas e diretas, respeitando a metodologia **RASE N1**.  \n",
    "2. **Cada sentença deve conter somente uma única regra computável**.  \n",
    "3. **Não remova nenhum dos seguintes elementos:**  \n",
    "   - **Aplicabilidade:** Onde ou quando a regra se aplica.  \n",
    "   - **Seleção:** Elemento específico dentro da aplicabilidade.  \n",
    "   - **Requisito:** O que deve ser feito.  \n",
    "   - **Exceção:** Casos que não precisam seguir a regra.  \n",
    "4. **A resposta deve conter apenas os textos reformulados, sem explicações ou títulos.**  \n",
    "5. **Cada frase deve ser separada por `\\n`, garantindo uma quebra de linha entre elas.**  \n",
    "6. **Todas as frases devem ser convertidas em afirmações lógicas.**  \n",
    "\n",
    "### **Exemplo 1:**  \n",
    "\n",
    "#### **Entrada:**  \n",
    "\"A inclinação transversal da superfície deve ser de até 2 % para pisos internos e de até 3 % para pisos externos. A inclinação longitudinal da superfície deve ser inferior a 5 %. Inclinações iguais ou superiores a 5 % são consideradas rampas e, portanto, devem atender a 6.6.\"  \n",
    "\n",
    "#### **Saída:**  \n",
    "Pisos internos devem ter inclinação transversal de no máximo 2%.\\n  \n",
    "Pisos externos devem ter inclinação transversal de no máximo 3%.\\n  \n",
    "A inclinação longitudinal da superfície deve ser inferior a 5%.\\n  \n",
    "Inclinações iguais ou superiores a 5% são consideradas rampas e devem atender à norma 6.6.\\n  \n",
    "\n",
    "### **Exemplo 2:**  \n",
    "\n",
    "#### **Entrada:**  \n",
    "\"Os acessos devem ser vinculados através de rota acessível à circulação principal e às circulações de emergência. Os acessos devem permanecer livres de quaisquer obstáculos de forma permanente.\"  \n",
    "\n",
    "#### **Saída:**  \n",
    "Os acessos devem ser vinculados através de rota acessível à circulação principal e às circulações de emergência.\\n  \n",
    "Os acessos devem permanecer livres de quaisquer obstáculos de forma permanente.\\n  \n",
    "\n",
    "### **Agora, transforme o texto abaixo utilizando a metodologia RASE N1:**  \n",
    "\n",
    "#### **Texto:**  \n",
    "{text}  \n",
    "\n",
    "#### **Resposta:**    \n",
    "\"\"\"\n",
    "\n",
    "model = OllamaLLM(model=\"splitpierre/bode-alpaca-pt-br\")\n",
    "prompt = ChatPromptTemplate.from_template(template)\n",
    "chain = prompt | model\n",
    "\n",
    "result = chain.invoke({\"text\": \"Nas edificações e equipamentos urbanos, todas as entradas, bem como as rotas de interligação às funções do edifício, devem ser acessíveis.\"})\n",
    "print(result)\n",
    "print(\"----------------------------------------------------------------------\")\n",
    "result = chain.invoke({\"text\": \"Os acessos devem ser vinculados através de rota acessível à circulação principal e às circulações de emergência. Os acessos devem permanecer livres de quaisquer obstáculos de forma permanente.\"})\n",
    "print(result.replace(\". \", \".\\n\"))"
   ]
  },
  {
   "cell_type": "markdown",
   "metadata": {},
   "source": []
  }
 ],
 "metadata": {
  "kernelspec": {
   "display_name": ".venv",
   "language": "python",
   "name": "python3"
  },
  "language_info": {
   "codemirror_mode": {
    "name": "ipython",
    "version": 3
   },
   "file_extension": ".py",
   "mimetype": "text/x-python",
   "name": "python",
   "nbconvert_exporter": "python",
   "pygments_lexer": "ipython3",
   "version": "3.11.9"
  }
 },
 "nbformat": 4,
 "nbformat_minor": 2
}
