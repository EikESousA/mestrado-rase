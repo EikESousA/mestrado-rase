{
 "cells": [
  {
   "cell_type": "code",
   "execution_count": 1,
   "metadata": {},
   "outputs": [],
   "source": [
    "import re\n",
    "import json\n",
    "import os"
   ]
  },
  {
   "cell_type": "code",
   "execution_count": null,
   "metadata": {},
   "outputs": [],
   "source": [
    "def create_json_n1(txt_path: str, output_path: str) -> dict:\n",
    "    \"\"\"\n",
    "    Lê um arquivo de texto, extrai blocos de dados formatados e os converte para um arquivo JSON.\n",
    "    \n",
    "    - Se o arquivo JSON já existir, verifica se os novos dados já estão presentes.\n",
    "    - Caso os dados já existam, não faz nenhuma alteração.\n",
    "    - Caso os dados sejam novos, adiciona ao JSON existente.\n",
    "    - Se o arquivo JSON não existir, cria um novo arquivo JSON com os dados extraídos.\n",
    "    \n",
    "    Parâmetros:\n",
    "        txt_path (str): Caminho do arquivo de texto de entrada.\n",
    "        output_path (str): Caminho do arquivo JSON de saída.\n",
    "    \n",
    "    Retorna:\n",
    "        dict: Estrutura de dados resultante contendo a contagem total e os dados extraídos.\n",
    "    \"\"\"\n",
    "    \n",
    "    with open(txt_path, 'r', encoding='utf-8') as file:\n",
    "        content = file.read().strip()\n",
    "    \n",
    "    blocks = content.split(\"###\")\n",
    "    new_datas = []\n",
    "    \n",
    "    for block in blocks:\n",
    "        block = block.strip()\n",
    "        if not block:\n",
    "            continue\n",
    "        \n",
    "        parts = block.split(\"---\")\n",
    "        if len(parts) == 2:\n",
    "            text = parts[0].strip()\n",
    "            texts_list = [t.strip() for t in parts[1].strip().split('\\n')]\n",
    "            new_datas.append({\"text\": text, \"texts\": texts_list})\n",
    "    \n",
    "    if os.path.exists(output_path):\n",
    "        with open(output_path, 'r', encoding='utf-8') as file:\n",
    "            try:\n",
    "                existing_data = json.load(file)\n",
    "            except json.JSONDecodeError:\n",
    "                existing_data = {\"count\": 0, \"datas\": []}\n",
    "    else:\n",
    "        existing_data = {\"count\": 0, \"datas\": []}\n",
    "    \n",
    "    existing_texts = {(item[\"text\"], tuple(item[\"texts\"])) for item in existing_data[\"datas\"]}\n",
    "    \n",
    "    for item in new_datas:\n",
    "        if (item[\"text\"], tuple(item[\"texts\"])) not in existing_texts:\n",
    "            existing_data[\"datas\"].append(item)\n",
    "    \n",
    "    existing_data[\"count\"] = len(existing_data[\"datas\"])\n",
    "    \n",
    "    with open(output_path, 'w', encoding='utf-8') as output_file:\n",
    "        json.dump(existing_data, output_file, indent=4, ensure_ascii=False)\n",
    "    \n",
    "    return existing_data"
   ]
  },
  {
   "cell_type": "code",
   "execution_count": null,
   "metadata": {},
   "outputs": [
    {
     "name": "stdout",
     "output_type": "stream",
     "text": [
      "Resultado salvo em ../databases/db_rase_n12.json\n"
     ]
    }
   ],
   "source": [
    "txt_path = \"../helpers/txt_rase.txt\"\n",
    "output_path = \"../databases/db_rase_n12.json\"\n",
    "parsed_data = create_json_n1(txt_path, output_path)\n",
    "print(f\"Resultado salvo em {output_path}\")\n"
   ]
  }
 ],
 "metadata": {
  "kernelspec": {
   "display_name": "Python 3",
   "language": "python",
   "name": "python3"
  },
  "language_info": {
   "codemirror_mode": {
    "name": "ipython",
    "version": 3
   },
   "file_extension": ".py",
   "mimetype": "text/x-python",
   "name": "python",
   "nbconvert_exporter": "python",
   "pygments_lexer": "ipython3",
   "version": "3.12.8"
  }
 },
 "nbformat": 4,
 "nbformat_minor": 2
}
