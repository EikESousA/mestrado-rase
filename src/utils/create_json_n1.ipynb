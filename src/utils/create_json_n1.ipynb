{
 "cells": [
  {
   "cell_type": "code",
   "execution_count": 1,
   "metadata": {},
   "outputs": [],
   "source": [
    "import re\n",
    "import json\n",
    "import os"
   ]
  },
  {
   "cell_type": "code",
   "execution_count": null,
   "metadata": {},
   "outputs": [],
   "source": [
    "def create_json_n1(input_path: str, output_path: str) -> dict:\n",
    "    \"\"\"\n",
    "    Lê um arquivo de texto, extrai blocos de dados formatados e os converte para um arquivo JSON.\n",
    "    \n",
    "    - Se o arquivo JSON já existir, verifica se os novos dados já estão presentes.\n",
    "    - Caso os dados já existam, não faz nenhuma alteração.\n",
    "    - Caso os dados sejam novos, adiciona ao JSON existente.\n",
    "    - Se o arquivo JSON não existir, cria um novo arquivo JSON com os dados extraídos.\n",
    "    \n",
    "    Parâmetros:\n",
    "        - input_path (str): Caminho do arquivo de texto de entrada.\n",
    "        - output_path (str): Caminho do arquivo JSON de saída.\n",
    "\n",
    "    Exceções:\n",
    "        - FileNotFoundError: Se o arquivo de entrada não for encontrado.\n",
    "        - JSONDecodeError: Se o arquivo JSON existente estiver corrompido ou inválido.\n",
    "        - IOError: Se houver erro ao escrever no arquivo de saída.\n",
    "        - KeyError: Se os dados do JSON não contiverem as chaves esperadas ('datas').\n",
    "        - TypeError: Se os dados lidos não estiverem no formato esperado.\n",
    "    \n",
    "    Retorna:\n",
    "        dict: Estrutura de dados resultante contendo a contagem total e os dados extraídos.\n",
    "    \"\"\"\n",
    "    \n",
    "    try:\n",
    "        with open(input_path, 'r', encoding='utf-8') as file:\n",
    "            content = file.read().strip()\n",
    "\n",
    "    except FileNotFoundError:\n",
    "        print(f\"Erro: Arquivo de entrada '{input_path}' não encontrado.\")\n",
    "        return {\"count\": 0, \"datas\": []}\n",
    "\n",
    "    new_datas = []\n",
    "\n",
    "    for block in filter(None, map(str.strip, content.split(\"###\"))):\n",
    "        parts = list(map(str.strip, block.split(\"---\", 1)))\n",
    "        if len(parts) == 2:\n",
    "            text, texts_list = parts\n",
    "            new_datas.append({\"text\": text, \"texts\": [t.strip() for t in texts_list.split(\"\\n\") if t.strip()]})\n",
    "\n",
    "    if os.path.exists(output_path):\n",
    "        try:\n",
    "            with open(output_path, 'r', encoding='utf-8') as file:\n",
    "                existing_data = json.load(file)\n",
    "\n",
    "            if \"datas\" not in existing_data or not isinstance(existing_data[\"datas\"], list):\n",
    "                raise KeyError(\"O JSON existente não contém a chave 'datas' ou ela não está no formato esperado.\")\n",
    "\n",
    "        except (json.JSONDecodeError, FileNotFoundError):\n",
    "            existing_data = {\"count\": 0, \"datas\": []}\n",
    "        except KeyError as e:\n",
    "            print(f\"Erro: {e}\")\n",
    "            return {\"count\": 0, \"datas\": []}\n",
    "        except TypeError as e:\n",
    "            print(f\"Erro: {e}\")\n",
    "            return {\"count\": 0, \"datas\": []}\n",
    "    else:\n",
    "        existing_data = {\"count\": 0, \"datas\": []}\n",
    "\n",
    "    existing_texts = {(item[\"text\"], tuple(item[\"texts\"])) for item in existing_data[\"datas\"]}\n",
    "    added = 0\n",
    "\n",
    "    for item in new_datas:\n",
    "        if (item[\"text\"], tuple(item[\"texts\"])) not in existing_texts:\n",
    "            existing_data[\"datas\"].append(item)\n",
    "            added += 1\n",
    "\n",
    "    existing_data[\"count\"] = len(existing_data[\"datas\"])\n",
    "\n",
    "    try:\n",
    "        with open(output_path, 'w', encoding='utf-8') as output_file:\n",
    "            json.dump(existing_data, output_file, indent=4, ensure_ascii=False)\n",
    "\n",
    "    except IOError:\n",
    "        print(f\"Erro: Falha ao escrever no arquivo '{output_path}'.\")\n",
    "        return existing_data\n",
    "\n",
    "    return existing_data"
   ]
  },
  {
   "cell_type": "code",
   "execution_count": null,
   "metadata": {},
   "outputs": [],
   "source": [
    "input_path: str = \"../helpers/txt_rase.txt\"\n",
    "output_path: str = \"../databases/data_n1.json\""
   ]
  },
  {
   "cell_type": "code",
   "execution_count": null,
   "metadata": {},
   "outputs": [
    {
     "name": "stdout",
     "output_type": "stream",
     "text": [
      "Processamento concluído. Resultado salvo em ../databases/db_rase_n1.json\n"
     ]
    }
   ],
   "source": [
    "parsed_data: dict = create_json_n1(input_path, output_path)\n",
    "print(f\"Processamento concluído. Resultado salvo em {output_path}\")"
   ]
  }
 ],
 "metadata": {
  "kernelspec": {
   "display_name": ".venv",
   "language": "python",
   "name": "python3"
  },
  "language_info": {
   "codemirror_mode": {
    "name": "ipython",
    "version": 3
   },
   "file_extension": ".py",
   "mimetype": "text/x-python",
   "name": "python",
   "nbconvert_exporter": "python",
   "pygments_lexer": "ipython3",
   "version": "3.11.9"
  }
 },
 "nbformat": 4,
 "nbformat_minor": 2
}
