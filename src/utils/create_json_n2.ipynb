{
 "cells": [
  {
   "cell_type": "code",
   "execution_count": 1,
   "metadata": {},
   "outputs": [],
   "source": [
    "import json\n",
    "import os"
   ]
  },
  {
   "cell_type": "code",
   "execution_count": null,
   "metadata": {},
   "outputs": [],
   "source": [
    "def create_json_n2(input_path: str, output_path: str) -> None:\n",
    "    \"\"\"\n",
    "    Lê o arquivo json_n1, verifica se json_n2 existe e atualiza com novos dados se necessário.\n",
    "    \n",
    "    - Se json_n2 não existir, cria um novo arquivo.\n",
    "    - Se json_n2 já existir, verifica se os valores de 'text' e 'transform' já existem.\n",
    "    - Caso os valores não existam, adiciona-os ao json_n2 com os campos adicionais vazios.\n",
    "    \n",
    "    Parâmetros:\n",
    "        - input_path (str): Caminho do arquivo json_n1.\n",
    "        - output_path (str): Caminho do arquivo json_n2.\n",
    "\n",
    "    Exceções:\n",
    "        - FileNotFoundError: Se o arquivo json_n1 não for encontrado.\n",
    "        - JSONDecodeError: Se houver erro ao decodificar json_n1 ou json_n2.\n",
    "        - KeyError: Se os arquivos JSON não contiverem as chaves esperadas ('datas' ou 'texts').\n",
    "        - TypeError: Se os dados dentro de 'datas' ou 'texts' não estiverem no formato esperado.\n",
    "\n",
    "    Retorna:\n",
    "        - None\n",
    "    \"\"\"\n",
    "\n",
    "    try:\n",
    "        with open(input_path, 'r', encoding='utf-8') as file:\n",
    "            json_n1 = json.load(file)\n",
    "\n",
    "        if \"datas\" not in json_n1 or not isinstance(json_n1[\"datas\"], list):\n",
    "            raise KeyError(\"O JSON de entrada não contém a chave 'datas' ou ela não está no formato esperado.\")\n",
    "\n",
    "    except FileNotFoundError:\n",
    "        print(f\"Erro: Arquivo '{input_path}' não encontrado.\")\n",
    "        return\n",
    "\n",
    "    except json.JSONDecodeError:\n",
    "        print(f\"Erro: Falha ao decodificar o JSON em '{input_path}'. Verifique o formato do arquivo.\")\n",
    "        return\n",
    "\n",
    "    except KeyError as e:\n",
    "        print(f\"Erro: {e}\")\n",
    "        return\n",
    "\n",
    "    except TypeError as e:\n",
    "        print(f\"Erro: {e}\")\n",
    "        return\n",
    "\n",
    "    if os.path.exists(output_path):\n",
    "        try:\n",
    "            with open(output_path, 'r', encoding='utf-8') as file:\n",
    "                json_n2 = json.load(file)\n",
    "\n",
    "            if \"datas\" not in json_n2 or not isinstance(json_n2[\"datas\"], list):\n",
    "                raise KeyError(\"O JSON de saída não contém a chave 'datas' ou ela não está no formato esperado.\")\n",
    "\n",
    "        except json.JSONDecodeError:\n",
    "            json_n2 = {\"count\": 0, \"datas\": []}\n",
    "\n",
    "        except KeyError as e:\n",
    "            print(f\"Erro: {e}\")\n",
    "            return\n",
    "\n",
    "        except TypeError as e:\n",
    "            print(f\"Erro: {e}\")\n",
    "            return\n",
    "\n",
    "    else:\n",
    "        json_n2 = {\"count\": 0, \"datas\": []}\n",
    "\n",
    "    existing_entries = {(item[\"text\"], item[\"transform\"]) for item in json_n2[\"datas\"]}\n",
    "    new_entries = []\n",
    "\n",
    "    for item in json_n1[\"datas\"]:\n",
    "        text = item.get(\"text\")\n",
    "        texts_list = item.get(\"texts\")\n",
    "\n",
    "        if not isinstance(texts_list, list):\n",
    "            print(f\"Erro: O campo 'texts' de um item não está no formato esperado. Ignorando entrada: {item}\")\n",
    "            continue\n",
    "\n",
    "        for transform in texts_list:\n",
    "            if (text, transform) not in existing_entries:\n",
    "                new_entry = {\n",
    "                    \"text\": text,\n",
    "                    \"transform\": transform,\n",
    "                    \"requisito\": \"\",\n",
    "                    \"aplicabilidade\": \"\",\n",
    "                    \"selecao\": \"\",\n",
    "                    \"execcao\": \"\"\n",
    "                }\n",
    "                new_entries.append(new_entry)\n",
    "\n",
    "    if new_entries:\n",
    "        json_n2[\"datas\"].extend(new_entries)\n",
    "        json_n2[\"count\"] = len(json_n2[\"datas\"])\n",
    "\n",
    "        with open(output_path, 'w', encoding='utf-8') as file:\n",
    "            json.dump(json_n2, file, indent=4, ensure_ascii=False)\n",
    "        print(f\"{len(new_entries)} novos itens adicionados ao json_n2.\")\n",
    "    else:\n",
    "        print(\"Nenhum novo item foi adicionado. Todos os dados já existiam.\")"
   ]
  },
  {
   "cell_type": "code",
   "execution_count": null,
   "metadata": {},
   "outputs": [],
   "source": [
    "input_path = \"../databases/data_n1.json\"\n",
    "output_path = \"../databases/data_n2.json\""
   ]
  },
  {
   "cell_type": "code",
   "execution_count": 4,
   "metadata": {},
   "outputs": [
    {
     "name": "stdout",
     "output_type": "stream",
     "text": [
      "181 novos itens adicionados ao json_n2.\n",
      "Processamento concluído. Resultado salvo em ../databases/db_rase_n2.json\n"
     ]
    }
   ],
   "source": [
    "create_json_n2(input_path, output_path)\n",
    "print(f\"Processamento concluído. Resultado salvo em {output_path}\")"
   ]
  }
 ],
 "metadata": {
  "kernelspec": {
   "display_name": ".venv",
   "language": "python",
   "name": "python3"
  },
  "language_info": {
   "codemirror_mode": {
    "name": "ipython",
    "version": 3
   },
   "file_extension": ".py",
   "mimetype": "text/x-python",
   "name": "python",
   "nbconvert_exporter": "python",
   "pygments_lexer": "ipython3",
   "version": "3.11.9"
  }
 },
 "nbformat": 4,
 "nbformat_minor": 2
}
