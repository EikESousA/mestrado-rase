{
 "cells": [
  {
   "cell_type": "code",
   "execution_count": 1,
   "metadata": {},
   "outputs": [
    {
     "data": {
      "application/vnd.jupyter.widget-view+json": {
       "model_id": "5fbbae8fe90244b2b39e97cf38090ba4",
       "version_major": 2,
       "version_minor": 0
      },
      "text/plain": [
       "modules.json:   0%|          | 0.00/349 [00:00<?, ?B/s]"
      ]
     },
     "metadata": {},
     "output_type": "display_data"
    },
    {
     "name": "stderr",
     "output_type": "stream",
     "text": [
      "c:\\Users\\eikes\\Documents\\GitHub\\mestrado-rase\\.venv\\Lib\\site-packages\\huggingface_hub\\file_download.py:142: UserWarning: `huggingface_hub` cache-system uses symlinks by default to efficiently store duplicated files but your machine does not support them in C:\\Users\\eikes\\.cache\\huggingface\\hub\\models--sentence-transformers--all-MiniLM-L6-v2. Caching files will still work but in a degraded version that might require more space on your disk. This warning can be disabled by setting the `HF_HUB_DISABLE_SYMLINKS_WARNING` environment variable. For more details, see https://huggingface.co/docs/huggingface_hub/how-to-cache#limitations.\n",
      "To support symlinks on Windows, you either need to activate Developer Mode or to run Python as an administrator. In order to activate developer mode, see this article: https://docs.microsoft.com/en-us/windows/apps/get-started/enable-your-device-for-development\n",
      "  warnings.warn(message)\n"
     ]
    },
    {
     "data": {
      "application/vnd.jupyter.widget-view+json": {
       "model_id": "edf676d48a3b41b7b38fee486f0d1f40",
       "version_major": 2,
       "version_minor": 0
      },
      "text/plain": [
       "config_sentence_transformers.json:   0%|          | 0.00/116 [00:00<?, ?B/s]"
      ]
     },
     "metadata": {},
     "output_type": "display_data"
    },
    {
     "data": {
      "application/vnd.jupyter.widget-view+json": {
       "model_id": "69607343daf44391b1394a41dea06d5b",
       "version_major": 2,
       "version_minor": 0
      },
      "text/plain": [
       "README.md:   0%|          | 0.00/10.7k [00:00<?, ?B/s]"
      ]
     },
     "metadata": {},
     "output_type": "display_data"
    },
    {
     "data": {
      "application/vnd.jupyter.widget-view+json": {
       "model_id": "fbb9694e40f34a99acb745b09896a241",
       "version_major": 2,
       "version_minor": 0
      },
      "text/plain": [
       "sentence_bert_config.json:   0%|          | 0.00/53.0 [00:00<?, ?B/s]"
      ]
     },
     "metadata": {},
     "output_type": "display_data"
    },
    {
     "data": {
      "application/vnd.jupyter.widget-view+json": {
       "model_id": "34f1b12bc64c41e9ae639ccd7c58efc3",
       "version_major": 2,
       "version_minor": 0
      },
      "text/plain": [
       "config.json:   0%|          | 0.00/612 [00:00<?, ?B/s]"
      ]
     },
     "metadata": {},
     "output_type": "display_data"
    },
    {
     "data": {
      "application/vnd.jupyter.widget-view+json": {
       "model_id": "ec9bd30fd58d423c954ca09c251ad9e2",
       "version_major": 2,
       "version_minor": 0
      },
      "text/plain": [
       "model.safetensors:   0%|          | 0.00/90.9M [00:00<?, ?B/s]"
      ]
     },
     "metadata": {},
     "output_type": "display_data"
    },
    {
     "data": {
      "application/vnd.jupyter.widget-view+json": {
       "model_id": "eb3a04e236d14171888e88a899305b14",
       "version_major": 2,
       "version_minor": 0
      },
      "text/plain": [
       "tokenizer_config.json:   0%|          | 0.00/350 [00:00<?, ?B/s]"
      ]
     },
     "metadata": {},
     "output_type": "display_data"
    },
    {
     "data": {
      "application/vnd.jupyter.widget-view+json": {
       "model_id": "9f89c05ddeeb4224be9a0d6a42e3493d",
       "version_major": 2,
       "version_minor": 0
      },
      "text/plain": [
       "vocab.txt:   0%|          | 0.00/232k [00:00<?, ?B/s]"
      ]
     },
     "metadata": {},
     "output_type": "display_data"
    },
    {
     "data": {
      "application/vnd.jupyter.widget-view+json": {
       "model_id": "e0772083e13f4546a26a783511a7b296",
       "version_major": 2,
       "version_minor": 0
      },
      "text/plain": [
       "tokenizer.json:   0%|          | 0.00/466k [00:00<?, ?B/s]"
      ]
     },
     "metadata": {},
     "output_type": "display_data"
    },
    {
     "data": {
      "application/vnd.jupyter.widget-view+json": {
       "model_id": "9ba284bc499e45a39c737c97f409d792",
       "version_major": 2,
       "version_minor": 0
      },
      "text/plain": [
       "special_tokens_map.json:   0%|          | 0.00/112 [00:00<?, ?B/s]"
      ]
     },
     "metadata": {},
     "output_type": "display_data"
    },
    {
     "data": {
      "application/vnd.jupyter.widget-view+json": {
       "model_id": "55167c01af6b4401bc6014929a085e4a",
       "version_major": 2,
       "version_minor": 0
      },
      "text/plain": [
       "1_Pooling%2Fconfig.json:   0%|          | 0.00/190 [00:00<?, ?B/s]"
      ]
     },
     "metadata": {},
     "output_type": "display_data"
    },
    {
     "name": "stdout",
     "output_type": "stream",
     "text": [
      "['O pavimento deve ter ao menos um M.R. a cada 500 pessoas de lotação, por pavimento.', 'O pavimento deve ser dotado de pelo menos um M.R. por escada e elevador de emergência comuns.']\n"
     ]
    }
   ],
   "source": [
    "from sentence_transformers import SentenceTransformer, util\n",
    "\n",
    "def filter_relevant_texts(main_text: str, texts: list, threshold: float = 0.5) -> list:\n",
    "    \"\"\"\n",
    "    Filtra textos que possuem baixa relação com o texto principal.\n",
    "\n",
    "    - Usa embeddings de frases para calcular a similaridade.\n",
    "    - Descarta frases que tenham similaridade menor que o limiar definido.\n",
    "\n",
    "    Parâmetros:\n",
    "        - main_text (str): O texto principal.\n",
    "        - texts (list): Lista de textos a serem avaliados.\n",
    "        - threshold (float): Limiar mínimo de similaridade (0 a 1).\n",
    "\n",
    "    Retorna:\n",
    "        - list: Lista de textos relevantes.\n",
    "    \"\"\"\n",
    "\n",
    "    # Carrega o modelo de embeddings\n",
    "    model = SentenceTransformer('all-MiniLM-L6-v2')\n",
    "\n",
    "    # Gera os embeddings para o texto principal e para os textos da lista\n",
    "    main_embedding = model.encode(main_text, convert_to_tensor=True)\n",
    "    texts_embeddings = model.encode(texts, convert_to_tensor=True)\n",
    "\n",
    "    # Calcula a similaridade entre o texto principal e cada texto da lista\n",
    "    similarities = util.pytorch_cos_sim(main_embedding, texts_embeddings)[0]\n",
    "\n",
    "    # Filtra textos com similaridade acima do threshold\n",
    "    relevant_texts = [text for text, sim in zip(texts, similarities) if sim >= threshold]\n",
    "\n",
    "    return relevant_texts\n",
    "\n",
    "# Exemplo de uso\n",
    "main_text = \"Nas áreas de resgate, deve ser previsto no mínimo um M.R. a cada 500 pessoas de lotação, por pavimento, sendo no mínimo um por pavimento e um para cada escada e elevador de emergência. Se a antecâmara das escadas e a dos elevadores de emergência forem comuns, o quantitativo de M.R. pode ser compartilhado.\"\n",
    "\n",
    "texts = [\n",
    "    \"O texto é dividido em sentenças curtas e diretas que contenham uma única regra computável.\",\n",
    "    \"A resposta contém as sentenças reformuladas em afirmações lógicas.\",\n",
    "    \"1.\",\n",
    "    \"O pavimento deve ter ao menos um M.R. a cada 500 pessoas de lotação, por pavimento.\",\n",
    "    \"2.\",\n",
    "    \"O pavimento deve ser dotado de pelo menos um M.R. por escada e elevador de emergência comuns.\"\n",
    "]\n",
    "\n",
    "filtered_texts = filter_relevant_texts(main_text, texts)\n",
    "print(filtered_texts)"
   ]
  }
 ],
 "metadata": {
  "kernelspec": {
   "display_name": ".venv",
   "language": "python",
   "name": "python3"
  },
  "language_info": {
   "codemirror_mode": {
    "name": "ipython",
    "version": 3
   },
   "file_extension": ".py",
   "mimetype": "text/x-python",
   "name": "python",
   "nbconvert_exporter": "python",
   "pygments_lexer": "ipython3",
   "version": "3.11.9"
  }
 },
 "nbformat": 4,
 "nbformat_minor": 2
}
