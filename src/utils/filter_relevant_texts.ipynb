{
 "cells": [
  {
   "cell_type": "code",
   "execution_count": 5,
   "metadata": {},
   "outputs": [
    {
     "name": "stderr",
     "output_type": "stream",
     "text": [
      "Invalid model-index. Not loading eval results into CardData.\n",
      "Invalid model-index. Not loading eval results into CardData.\n"
     ]
    },
    {
     "name": "stdout",
     "output_type": "stream",
     "text": [
      "Textos com similaridade abaixo do threshold:\n",
      "Similaridade: 0.2492 - Texto: O texto é dividido em sentenças curtas e diretas que contenham uma única regra computável.\n",
      "Similaridade: 0.2008 - Texto: A resposta contém as sentenças reformuladas em afirmações lógicas.\n",
      "Similaridade: -0.0248 - Texto: 1.\n",
      "Similaridade: -0.1549 - Texto: 2.\n",
      "['O pavimento deve ter ao menos um M.R. a cada 500 pessoas de lotação, por pavimento.', 'O pavimento deve ser dotado de pelo menos um M.R. por escada e elevador de emergência comuns.']\n"
     ]
    }
   ],
   "source": [
    "from sentence_transformers import SentenceTransformer, util\n",
    "\n",
    "def filter_relevant_texts(main_text: str, texts: list, threshold: float = 0.5) -> list:\n",
    "    \"\"\"\n",
    "    Filtra textos que possuem baixa relação com o texto principal.\n",
    "\n",
    "    - Usa embeddings de frases para calcular a similaridade.\n",
    "    - Descarta frases que tenham similaridade menor que o limiar definido.\n",
    "\n",
    "    Parâmetros:\n",
    "        - main_text (str): O texto principal.\n",
    "        - texts (list): Lista de textos a serem avaliados.\n",
    "        - threshold (float): Limiar mínimo de similaridade (0 a 1).\n",
    "\n",
    "    Retorna:\n",
    "        - list: Lista de textos relevantes.\n",
    "    \"\"\"\n",
    "\n",
    "    model = SentenceTransformer('rufimelo/Legal-BERTimbau-sts-large-ma-v3')\n",
    "\n",
    "    main_embedding = model.encode(main_text, convert_to_tensor=True)\n",
    "    texts_embeddings = model.encode(texts, convert_to_tensor=True)\n",
    "\n",
    "    similarities = util.pytorch_cos_sim(main_embedding, texts_embeddings)[0]\n",
    "\n",
    "    relevant_texts = [text for text, sim in zip(texts, similarities) if sim >= threshold]\n",
    "    irrelevant_texts = [(text, sim.item()) for text, sim in zip(texts, similarities) if sim < threshold]\n",
    "\n",
    "    print(\"Textos com similaridade abaixo do threshold:\")\n",
    "    for text, sim in irrelevant_texts:\n",
    "        print(f\"Similaridade: {sim:.4f} - Texto: {text}\")\n",
    "\n",
    "    return relevant_texts\n",
    "\n",
    "main_text = \"Nas áreas de resgate, deve ser previsto no mínimo um M.R. a cada 500 pessoas de lotação, por pavimento, sendo no mínimo um por pavimento e um para cada escada e elevador de emergência. Se a antecâmara das escadas e a dos elevadores de emergência forem comuns, o quantitativo de M.R. pode ser compartilhado.\"\n",
    "\n",
    "texts = [\n",
    "    \"O texto é dividido em sentenças curtas e diretas que contenham uma única regra computável.\",\n",
    "    \"A resposta contém as sentenças reformuladas em afirmações lógicas.\",\n",
    "    \"1.\",\n",
    "    \"O pavimento deve ter ao menos um M.R. a cada 500 pessoas de lotação, por pavimento.\",\n",
    "    \"2.\",\n",
    "    \"O pavimento deve ser dotado de pelo menos um M.R. por escada e elevador de emergência comuns.\"\n",
    "]\n",
    "\n",
    "filtered_texts = filter_relevant_texts(main_text, texts)\n",
    "print(filtered_texts)"
   ]
  }
 ],
 "metadata": {
  "kernelspec": {
   "display_name": ".venv",
   "language": "python",
   "name": "python3"
  },
  "language_info": {
   "codemirror_mode": {
    "name": "ipython",
    "version": 3
   },
   "file_extension": ".py",
   "mimetype": "text/x-python",
   "name": "python",
   "nbconvert_exporter": "python",
   "pygments_lexer": "ipython3",
   "version": "3.11.9"
  }
 },
 "nbformat": 4,
 "nbformat_minor": 2
}
