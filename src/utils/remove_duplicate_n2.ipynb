{
 "cells": [
  {
   "cell_type": "code",
   "execution_count": 1,
   "metadata": {},
   "outputs": [],
   "source": [
    "import json"
   ]
  },
  {
   "cell_type": "code",
   "execution_count": null,
   "metadata": {},
   "outputs": [],
   "source": [
    "def remove_duplicate_n2(input_path: str) -> None:\n",
    "    \"\"\"\n",
    "    Remove duplicatas do json_n2, verificando se os campos 'text' e 'transform' são iguais.\n",
    "    \n",
    "    Parâmetros:\n",
    "        - input_path (str): Caminho do arquivo json_n2.\n",
    "\n",
    "    Exceções:\n",
    "        - FileNotFoundError: Se o arquivo json_n2 não for encontrado.\n",
    "        - JSONDecodeError: Se houver erro ao decodificar o JSON.\n",
    "        - KeyError: Se o JSON não contiver a chave esperada 'datas'.\n",
    "        - TypeError: Se os dados dentro de 'datas' não estiverem no formato esperado (lista de dicionários).\n",
    "\n",
    "    Retorna:\n",
    "        - None\n",
    "    \"\"\"\n",
    "\n",
    "    try:\n",
    "        with open(input_path, 'r', encoding='utf-8') as file:\n",
    "            json_n2 = json.load(file)\n",
    "\n",
    "        if \"datas\" not in json_n2:\n",
    "            raise KeyError(\"A chave 'datas' está ausente no JSON.\")\n",
    "\n",
    "        if not isinstance(json_n2[\"datas\"], list):\n",
    "            raise TypeError(\"O campo 'datas' deve ser uma lista.\")\n",
    "\n",
    "    except FileNotFoundError:\n",
    "        print(f\"Erro: Arquivo '{input_path}' não encontrado.\")\n",
    "        return\n",
    "\n",
    "    except json.JSONDecodeError:\n",
    "        print(f\"Erro: Falha ao decodificar o JSON em '{input_path}'. Verifique o formato do arquivo.\")\n",
    "        return\n",
    "\n",
    "    except KeyError as e:\n",
    "        print(f\"Erro: {e}\")\n",
    "        return\n",
    "\n",
    "    except TypeError as e:\n",
    "        print(f\"Erro: {e}\")\n",
    "        return\n",
    "\n",
    "    unique_entries = set()\n",
    "    filtered_datas = []\n",
    "\n",
    "    for item in json_n2[\"datas\"]:\n",
    "        key = (item.get(\"text\"), item.get(\"transform\"))  \n",
    "        if key not in unique_entries:\n",
    "            unique_entries.add(key)\n",
    "            filtered_datas.append(item)\n",
    "\n",
    "    json_n2[\"datas\"] = filtered_datas\n",
    "    json_n2[\"count\"] = len(filtered_datas)\n",
    "\n",
    "    with open(input_path, 'w', encoding='utf-8') as file:\n",
    "        json.dump(json_n2, file, indent=4, ensure_ascii=False)\n",
    "\n",
    "    print(f\"Arquivo atualizado! Removidas {len(json_n2['datas']) - len(filtered_datas)} duplicatas do json_n2.\")"
   ]
  },
  {
   "cell_type": "code",
   "execution_count": null,
   "metadata": {},
   "outputs": [],
   "source": [
    "input_path: str = \"../databases/data_n2.json\""
   ]
  },
  {
   "cell_type": "code",
   "execution_count": 4,
   "metadata": {},
   "outputs": [
    {
     "name": "stdout",
     "output_type": "stream",
     "text": [
      "Removidas 0 duplicatas do json_n2.\n",
      "Processamento concluído. Resultado salvo em ../databases/db_rase_n2.json\n"
     ]
    }
   ],
   "source": [
    "remove_duplicate_n2(input_path)\n",
    "print(f\"Processamento concluído. Resultado salvo em {input_path}\")"
   ]
  }
 ],
 "metadata": {
  "kernelspec": {
   "display_name": ".venv",
   "language": "python",
   "name": "python3"
  },
  "language_info": {
   "codemirror_mode": {
    "name": "ipython",
    "version": 3
   },
   "file_extension": ".py",
   "mimetype": "text/x-python",
   "name": "python",
   "nbconvert_exporter": "python",
   "pygments_lexer": "ipython3",
   "version": "3.11.9"
  }
 },
 "nbformat": 4,
 "nbformat_minor": 2
}
