{
 "cells": [
  {
   "cell_type": "code",
   "execution_count": 1,
   "metadata": {},
   "outputs": [],
   "source": [
    "import json"
   ]
  },
  {
   "cell_type": "code",
   "execution_count": null,
   "metadata": {},
   "outputs": [],
   "source": [
    "def remove_duplicate_n1(json_path: str):\n",
    "    \"\"\"\n",
    "    Lê um arquivo JSON, verifica se há valores duplicados no campo 'text' e remove as duplicatas.\n",
    "    \n",
    "    Parâmetros:\n",
    "        json_path (str): Caminho do arquivo JSON.\n",
    "    \"\"\"\n",
    "    \n",
    "    try:\n",
    "        with open(json_path, 'r', encoding='utf-8') as file:\n",
    "            data = json.load(file)\n",
    "        \n",
    "        if \"datas\" not in data:\n",
    "            print(\"O JSON não contém o campo 'datas'.\")\n",
    "            return\n",
    "        \n",
    "        seen_texts = set()\n",
    "        unique_datas = []\n",
    "\n",
    "        for item in data[\"datas\"]:\n",
    "            if item[\"text\"] not in seen_texts:\n",
    "                seen_texts.add(item[\"text\"])\n",
    "                unique_datas.append(item)\n",
    "\n",
    "        data[\"datas\"] = unique_datas\n",
    "        data[\"count\"] = len(unique_datas)\n",
    "\n",
    "        with open(json_path, 'w', encoding='utf-8') as file:\n",
    "            json.dump(data, file, indent=4, ensure_ascii=False)\n",
    "        \n",
    "        print(f\"Arquivo atualizado! Duplicatas removidas. Total de registros: {data['count']}\")\n",
    "    \n",
    "    except FileNotFoundError:\n",
    "        print(\"Arquivo JSON não encontrado.\")\n",
    "    except json.JSONDecodeError:\n",
    "        print(\"Erro ao decodificar o JSON.\")"
   ]
  },
  {
   "cell_type": "code",
   "execution_count": null,
   "metadata": {},
   "outputs": [
    {
     "name": "stdout",
     "output_type": "stream",
     "text": [
      "Arquivo atualizado! Duplicatas removidas. Total de registros: 80\n"
     ]
    }
   ],
   "source": [
    "json_path = \"../databases/db_rase_n1.json\"\n",
    "remove_duplicate_n1(json_path)"
   ]
  }
 ],
 "metadata": {
  "kernelspec": {
   "display_name": "Python 3",
   "language": "python",
   "name": "python3"
  },
  "language_info": {
   "codemirror_mode": {
    "name": "ipython",
    "version": 3
   },
   "file_extension": ".py",
   "mimetype": "text/x-python",
   "name": "python",
   "nbconvert_exporter": "python",
   "pygments_lexer": "ipython3",
   "version": "3.12.8"
  }
 },
 "nbformat": 4,
 "nbformat_minor": 2
}
