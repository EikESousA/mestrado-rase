{
 "cells": [
  {
   "cell_type": "code",
   "execution_count": 1,
   "metadata": {},
   "outputs": [],
   "source": [
    "import json"
   ]
  },
  {
   "cell_type": "code",
   "execution_count": null,
   "metadata": {},
   "outputs": [],
   "source": [
    "def remove_duplicate_n1(input_path: str) -> None:\n",
    "    \"\"\"\n",
    "    Lê um arquivo JSON, verifica se há valores duplicados no campo 'text' e remove as duplicatas.\n",
    "    \n",
    "    Parâmetros:\n",
    "        - input_path (str): Caminho do arquivo JSON.\n",
    "\n",
    "    Exceções:\n",
    "        - FileNotFoundError: Se o arquivo JSON não for encontrado.\n",
    "        - json.JSONDecodeError: Se houver erro ao decodificar o JSON.\n",
    "        - KeyError: Se o JSON não contiver o campo 'datas'.\n",
    "\n",
    "    Retorna:\n",
    "        - None\n",
    "    \"\"\"\n",
    "    \n",
    "    try:\n",
    "        with open(input_path, 'r', encoding='utf-8') as file:\n",
    "            data = json.load(file)\n",
    "        \n",
    "        if \"datas\" not in data:\n",
    "            print(\"Erro: O JSON não contém o campo 'datas'.\")\n",
    "            return\n",
    "        \n",
    "        seen_texts = set()\n",
    "        unique_datas = []\n",
    "\n",
    "        for item in data[\"datas\"]:\n",
    "            if item[\"text\"] not in seen_texts:\n",
    "                seen_texts.add(item[\"text\"])\n",
    "                unique_datas.append(item)\n",
    "\n",
    "        data[\"datas\"] = unique_datas\n",
    "        data[\"count\"] = len(unique_datas)\n",
    "\n",
    "        with open(input_path, 'w', encoding='utf-8') as file:\n",
    "            json.dump(data, file, indent=4, ensure_ascii=False)\n",
    "        \n",
    "        print(f\"Arquivo atualizado! Duplicatas removidas. Total de registros: {data['count']}\")\n",
    "\n",
    "    except FileNotFoundError:\n",
    "        print(f\"Erro: Arquivo JSON '{input_path}' não encontrado.\")\n",
    "        return\n",
    "\n",
    "    except json.JSONDecodeError:\n",
    "        print(f\"Erro: Falha ao decodificar o JSON em '{input_path}'. Verifique o formato do arquivo.\")\n",
    "        return\n",
    "\n",
    "    except KeyError:\n",
    "        print(f\"Erro: O JSON em '{input_path}' não contém a chave esperada 'datas'.\")\n",
    "        return"
   ]
  },
  {
   "cell_type": "code",
   "execution_count": null,
   "metadata": {},
   "outputs": [],
   "source": [
    "input_path: str = \"../databases/data_n1.json\""
   ]
  },
  {
   "cell_type": "code",
   "execution_count": 4,
   "metadata": {},
   "outputs": [
    {
     "name": "stdout",
     "output_type": "stream",
     "text": [
      "Arquivo atualizado! Duplicatas removidas. Total de registros: 80\n",
      "Processamento concluído. Resultado salvo em ../databases/db_rase_n1.json\n"
     ]
    }
   ],
   "source": [
    "remove_duplicate_n1(input_path)\n",
    "print(f\"Processamento concluído. Resultado salvo em {input_path}\")"
   ]
  }
 ],
 "metadata": {
  "kernelspec": {
   "display_name": ".venv",
   "language": "python",
   "name": "python3"
  },
  "language_info": {
   "codemirror_mode": {
    "name": "ipython",
    "version": 3
   },
   "file_extension": ".py",
   "mimetype": "text/x-python",
   "name": "python",
   "nbconvert_exporter": "python",
   "pygments_lexer": "ipython3",
   "version": "3.11.9"
  }
 },
 "nbformat": 4,
 "nbformat_minor": 2
}
