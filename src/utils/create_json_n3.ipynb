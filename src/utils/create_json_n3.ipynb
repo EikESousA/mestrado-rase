{
 "cells": [
  {
   "cell_type": "code",
   "execution_count": 1,
   "metadata": {},
   "outputs": [],
   "source": [
    "import json\n",
    "import os"
   ]
  },
  {
   "cell_type": "code",
   "execution_count": 3,
   "metadata": {},
   "outputs": [],
   "source": [
    "def create_json_n3(input_path: str, output_path: str) -> None:\n",
    "    \"\"\"\n",
    "    Lê o arquivo json_n2, verifica se json_n3 existe e atualiza com novos dados se necessário.\n",
    "    \n",
    "    - Se json_n3 não existir, cria um novo arquivo.\n",
    "    - Se json_n3 já existir, verifica se os valores de 'text' e 'transform' já existem.\n",
    "    - Caso os valores não existam, adiciona-os ao json_n3 com os campos adicionais vazios.\n",
    "    \n",
    "    Parâmetros:\n",
    "        - input_path (str): Caminho do arquivo json_n2.\n",
    "        - output_path (str): Caminho do arquivo json_n3.\n",
    "    \"\"\"\n",
    "    try:\n",
    "        with open(input_path, 'r', encoding='utf-8') as file:\n",
    "            json_n2 = json.load(file)\n",
    "\n",
    "        if \"datas\" not in json_n2 or not isinstance(json_n2[\"datas\"], list):\n",
    "            raise KeyError(\"O JSON de entrada não contém a chave 'datas' ou ela não está no formato esperado.\")\n",
    "    except (FileNotFoundError, json.JSONDecodeError, KeyError, TypeError) as e:\n",
    "        print(f\"Erro ao processar o arquivo de entrada: {e}\")\n",
    "        return\n",
    "    \n",
    "    # Verificar se o arquivo de saída já existe\n",
    "    if os.path.exists(output_path):\n",
    "        try:\n",
    "            with open(output_path, 'r', encoding='utf-8') as file:\n",
    "                json_n3 = json.load(file)\n",
    "\n",
    "            if \"datas\" not in json_n3 or not isinstance(json_n3[\"datas\"], list):\n",
    "                raise KeyError(\"O JSON de saída não contém a chave 'datas' ou ela não está no formato esperado.\")\n",
    "        except (json.JSONDecodeError, KeyError, TypeError):\n",
    "            json_n3 = {\"count\": 0, \"datas\": []}\n",
    "    else:\n",
    "        json_n3 = {\"count\": 0, \"datas\": []}\n",
    "    \n",
    "    existing_entries = {(item[\"text\"], item[\"transform\"]) for item in json_n3[\"datas\"]}\n",
    "    new_entries = []\n",
    "\n",
    "    for item in json_n2[\"datas\"]:\n",
    "        text = item.get(\"text\", \"\")\n",
    "        transform = item.get(\"transform\", \"\")\n",
    "        requisito = item.get(\"requisito\", \"\")\n",
    "        aplicabilidade = item.get(\"aplicabilidade\", \"\")\n",
    "        selecao = item.get(\"selecao\", \"\")\n",
    "        execcao = item.get(\"execcao\", \"\")\n",
    "        \n",
    "        # Criar novas entradas para cada tipo de dado relevante\n",
    "        for tipo, valor in zip([\"requisito\", \"aplicabilidade\", \"selecao\", \"execcao\"], [requisito, aplicabilidade, selecao, execcao]):\n",
    "            if valor:  # Apenas adiciona se o valor não estiver vazio\n",
    "                new_entry = {\n",
    "                    \"text\": text,\n",
    "                    \"transform\": valor,\n",
    "                    \"tipo\": tipo,\n",
    "                    \"objeto\": \"\",\n",
    "                    \"propriedade\": \"\",\n",
    "                    \"comparacao\": \"\",\n",
    "                    \"alvo\": \"\",\n",
    "                    \"unidade\": \"\"\n",
    "                }\n",
    "                \n",
    "                if (text, valor) not in existing_entries:\n",
    "                    new_entries.append(new_entry)\n",
    "    \n",
    "    if new_entries:\n",
    "        json_n3[\"datas\"].extend(new_entries)\n",
    "        json_n3[\"count\"] = len(json_n3[\"datas\"])\n",
    "\n",
    "        with open(output_path, 'w', encoding='utf-8') as file:\n",
    "            json.dump(json_n3, file, indent=4, ensure_ascii=False)\n",
    "        print(f\"{len(new_entries)} novos itens adicionados ao json_n3.\")\n",
    "    else:\n",
    "        print(\"Nenhum novo item foi adicionado. Todos os dados já existiam.\")"
   ]
  },
  {
   "cell_type": "code",
   "execution_count": 4,
   "metadata": {},
   "outputs": [],
   "source": [
    "input_path: str = \"../databases/data_n2.json\"\n",
    "output_path: str = \"../databases/data_n3.json\""
   ]
  },
  {
   "cell_type": "code",
   "execution_count": 6,
   "metadata": {},
   "outputs": [
    {
     "name": "stdout",
     "output_type": "stream",
     "text": [
      "390 novos itens adicionados ao json_n3.\n",
      "Processamento concluído. Resultado salvo em ../databases/data_n3.json\n"
     ]
    }
   ],
   "source": [
    "create_json_n3(input_path, output_path)\n",
    "print(f\"Processamento concluído. Resultado salvo em {output_path}\")"
   ]
  }
 ],
 "metadata": {
  "kernelspec": {
   "display_name": ".venv",
   "language": "python",
   "name": "python3"
  },
  "language_info": {
   "codemirror_mode": {
    "name": "ipython",
    "version": 3
   },
   "file_extension": ".py",
   "mimetype": "text/x-python",
   "name": "python",
   "nbconvert_exporter": "python",
   "pygments_lexer": "ipython3",
   "version": "3.11.9"
  }
 },
 "nbformat": 4,
 "nbformat_minor": 2
}
