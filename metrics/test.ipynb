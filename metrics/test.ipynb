{
 "cells": [
  {
   "cell_type": "code",
   "execution_count": 1,
   "metadata": {},
   "outputs": [
    {
     "name": "stderr",
     "output_type": "stream",
     "text": [
      "c:\\Users\\eikes\\AppData\\Local\\Programs\\Python\\Python312\\Lib\\site-packages\\tqdm\\auto.py:21: TqdmWarning: IProgress not found. Please update jupyter and ipywidgets. See https://ipywidgets.readthedocs.io/en/stable/user_install.html\n",
      "  from .autonotebook import tqdm as notebook_tqdm\n"
     ]
    }
   ],
   "source": [
    "import json\n",
    "from fuzzywuzzy import fuzz\n",
    "from sklearn.feature_extraction.text import TfidfVectorizer\n",
    "from sklearn.metrics.pairwise import cosine_similarity\n",
    "from sentence_transformers import SentenceTransformer, util\n",
    "from gensim.models import KeyedVectors\n",
    "import gensim.downloader as api"
   ]
  },
  {
   "cell_type": "code",
   "execution_count": 2,
   "metadata": {},
   "outputs": [],
   "source": [
    "data = []\n",
    "\n",
    "with open(\"example.json\", \"r\", encoding=\"utf-8\") as file:\n",
    "    data = json.load(file)"
   ]
  },
  {
   "cell_type": "code",
   "execution_count": 3,
   "metadata": {},
   "outputs": [
    {
     "name": "stdout",
     "output_type": "stream",
     "text": [
      "{'dados': [{'entrada': 'carro azul', 'target': 'automóvel azul', 'previsto': 'veículo azul'}, {'entrada': 'computador potente', 'target': 'PC rápido', 'previsto': 'notebook veloz'}, {'entrada': 'banco de madeira', 'target': 'assento de madeira', 'previsto': 'cadeira de madeira'}]}\n"
     ]
    }
   ],
   "source": [
    "print(data)"
   ]
  },
  {
   "cell_type": "markdown",
   "metadata": {},
   "source": [
    "# FuzzyWuzzy (Fuzzy String Matching)\n",
    "\n",
    "🔹 O que é?\n",
    "\n",
    "FuzzyWuzzy usa a **distância de Levenshtein** para medir a semelhança entre duas cadeias de texto.\n",
    "\n",
    "🔹 Como funciona?\n",
    "\n",
    "Conta quantas operações (inserção, remoção ou substituição de caracteres) são necessárias para transformar uma string na outra.\n",
    "Retorna um valor de 0 a 100, onde 100 significa textos idênticos."
   ]
  },
  {
   "cell_type": "code",
   "execution_count": 4,
   "metadata": {},
   "outputs": [
    {
     "name": "stdout",
     "output_type": "stream",
     "text": [
      "Target: automóvel azul | Previsto: veículo azul | Similaridade: 70%\n",
      "Target: PC rápido | Previsto: notebook veloz | Similaridade: 22%\n",
      "Target: assento de madeira | Previsto: cadeira de madeira | Similaridade: 74%\n"
     ]
    }
   ],
   "source": [
    "for item in data[\"dados\"]:\n",
    "    score = fuzz.partial_ratio(item[\"target\"], item[\"previsto\"])\n",
    "    print(f\"Target: {item['target']} | Previsto: {item['previsto']} | Similaridade: {score}%\")"
   ]
  },
  {
   "cell_type": "markdown",
   "metadata": {},
   "source": [
    "# Similaridade de Cosseno (TF-IDF)\n",
    "\n",
    "🔹 O que é?\n",
    "\n",
    "Mede o ângulo entre vetores que representam os textos. Quanto menor o ângulo, mais parecidas são as frases.\n",
    "\n",
    "🔹 Como funciona?\n",
    "\n",
    "Representa cada frase como um vetor numérico usando TF-IDF.\n",
    "Calcula o cosseno do ângulo entre os vetores.\n",
    "Retorna um valor de 0 a 1, onde 1 significa frases idênticas."
   ]
  },
  {
   "cell_type": "code",
   "execution_count": 5,
   "metadata": {},
   "outputs": [
    {
     "name": "stdout",
     "output_type": "stream",
     "text": [
      "Target: automóvel azul | Previsto: veículo azul | Similaridade: 0.40\n",
      "Target: PC rápido | Previsto: notebook veloz | Similaridade: 0.00\n",
      "Target: assento de madeira | Previsto: cadeira de madeira | Similaridade: 0.57\n"
     ]
    }
   ],
   "source": [
    "targets = [item[\"target\"] for item in data[\"dados\"]]\n",
    "predictions = [item[\"previsto\"] for item in data[\"dados\"]]\n",
    "\n",
    "vectorizer = TfidfVectorizer()\n",
    "tfidf_matrix = vectorizer.fit_transform(targets + predictions)\n",
    "\n",
    "for i in range(len(targets)):\n",
    "    similarity = cosine_similarity(tfidf_matrix[i], tfidf_matrix[i + len(targets)])[0][0]\n",
    "    print(f\"Target: {targets[i]} | Previsto: {predictions[i]} | Similaridade: {similarity:.2f}\")"
   ]
  },
  {
   "cell_type": "markdown",
   "metadata": {},
   "source": [
    "# Sentence Transformer (SBERT)\n",
    "\n",
    "🔹 O que é?\n",
    "\n",
    "SentenceTransformer usa modelos baseados em BERT para transformar frases em vetores numéricos de alta dimensão. Depois, podemos calcular a similaridade de cosseno entre esses vetores para medir o quão parecidas as frases são.\n",
    "\n",
    "🔹 Como funciona?\n",
    "\n",
    "Converte frases em vetores (embeddings).\n",
    "Usa similaridade de cosseno para medir a relação entre elas.\n",
    "Valores mais próximos de 1 indicam frases semelhantes."
   ]
  },
  {
   "cell_type": "code",
   "execution_count": 6,
   "metadata": {},
   "outputs": [
    {
     "name": "stdout",
     "output_type": "stream",
     "text": [
      "Target: automóvel azul | Previsto: veículo azul | Similaridade: 0.53\n",
      "Target: PC rápido | Previsto: notebook veloz | Similaridade: 0.28\n",
      "Target: assento de madeira | Previsto: cadeira de madeira | Similaridade: 0.73\n"
     ]
    }
   ],
   "source": [
    "model = SentenceTransformer(\"paraphrase-MiniLM-L6-v2\")\n",
    "\n",
    "for item in data[\"dados\"]:\n",
    "    embedding1 = model.encode(item[\"target\"], convert_to_tensor=True)\n",
    "    embedding2 = model.encode(item[\"previsto\"], convert_to_tensor=True)\n",
    "    similarity = util.pytorch_cos_sim(embedding1, embedding2).item()\n",
    "    \n",
    "    print(f\"Target: {item['target']} | Previsto: {item['previsto']} | Similaridade: {similarity:.2f}\")"
   ]
  },
  {
   "cell_type": "markdown",
   "metadata": {},
   "source": [
    "# Word Mover’s Distance (WMD)\n",
    "\n",
    "🔹 O que é?\n",
    "\n",
    "Usa Word Embeddings para calcular a menor \"distância\" que as palavras de uma frase precisam \"caminhar\" para se tornarem outra frase.\n",
    "\n",
    "🔹 Como funciona?\n",
    "\n",
    "Representa palavras como vetores de um modelo de linguagem (ex: Word2Vec, FastText).\n",
    "Mede o custo de \"mover\" palavras da frase A para a frase B.\n",
    "Quanto menor o valor, mais semelhantes as frases."
   ]
  },
  {
   "cell_type": "code",
   "execution_count": 7,
   "metadata": {},
   "outputs": [
    {
     "name": "stdout",
     "output_type": "stream",
     "text": [
      "Target: automóvel azul | Previsto: veículo azul | WMD: 0.0000\n",
      "Target: PC rápido | Previsto: notebook veloz | WMD: 1.0569\n",
      "Target: assento de madeira | Previsto: cadeira de madeira | WMD: 0.3476\n"
     ]
    }
   ],
   "source": [
    "word_vectors = api.load(\"fasttext-wiki-news-subwords-300\")\n",
    "\n",
    "def calculate_wmd(sentence1, sentence2, model):\n",
    "    sentence1 = sentence1.lower().split()\n",
    "    sentence2 = sentence2.lower().split()\n",
    "    return model.wmdistance(sentence1, sentence2)\n",
    "\n",
    "for item in data[\"dados\"]:\n",
    "    wmd_score = calculate_wmd(item[\"target\"], item[\"previsto\"], word_vectors)\n",
    "    print(f\"Target: {item['target']} | Previsto: {item['previsto']} | WMD: {wmd_score:.4f}\")"
   ]
  },
  {
   "cell_type": "code",
   "execution_count": 8,
   "metadata": {},
   "outputs": [
    {
     "name": "stdout",
     "output_type": "stream",
     "text": [
      "Target: automóvel azul | Previsto: veículo azul | WMD: 0.3304\n",
      "Target: PC rápido | Previsto: notebook veloz | WMD: 0.9328\n",
      "Target: assento de madeira | Previsto: cadeira de madeira | WMD: 0.2947\n"
     ]
    }
   ],
   "source": [
    "#http://143.107.183.175:22980/download.php?file=embeddings/fasttext/cbow_s300.zip\n",
    "\n",
    "modelo_nilc = \"../word_embeddings/cbow_s300.txt\"\n",
    "word_vectors = KeyedVectors.load_word2vec_format(modelo_nilc, encoding=\"utf-8\", unicode_errors=\"ignore\")\n",
    "\n",
    "def calculate_wmd(sentence1, sentence2, model):\n",
    "    sentence1 = sentence1.lower().split()\n",
    "    sentence2 = sentence2.lower().split()\n",
    "    return model.wmdistance(sentence1, sentence2)\n",
    "\n",
    "for item in data[\"dados\"]:\n",
    "    wmd_score = calculate_wmd(item[\"target\"], item[\"previsto\"], word_vectors)\n",
    "    print(f\"Target: {item['target']} | Previsto: {item['previsto']} | WMD: {wmd_score:.4f}\")"
   ]
  },
  {
   "cell_type": "markdown",
   "metadata": {},
   "source": [
    "🔹 Se você quer comparar textos curtos, use FuzzyWuzzy ou Levenshtein.\n",
    "\n",
    "🔹 Se quiser entender o contexto, WMD e Word Embeddings são as melhores opções.\n",
    "\n",
    "🔹 Para analisar grandes textos, TF-IDF + Similaridade de Cosseno é eficiente."
   ]
  },
  {
   "cell_type": "code",
   "execution_count": null,
   "metadata": {},
   "outputs": [
    {
     "name": "stdout",
     "output_type": "stream",
     "text": [
      "Target: automóvel azul | Previsto: veículo azul\n",
      "  🔹 FuzzyWuzzy: 0.7000\n",
      "  🔹 Similaridade Cosseno (TF-IDF): 0.5000\n",
      "  🔹 Similaridade SBERT: 0.5279\n",
      "  🔹 WMD (FastText - Normalizado): 1.0000\n",
      "  🔹 WMD (NILC - Normalizado): 0.9605\n",
      "------------------------------------------------------------\n",
      "Target: automóvel vermelho | Previsto: veículo vermelho\n",
      "  🔹 FuzzyWuzzy: 0.7700\n",
      "  🔹 Similaridade Cosseno (TF-IDF): 0.5000\n",
      "  🔹 Similaridade SBERT: 0.5789\n",
      "  🔹 WMD (FastText - Normalizado): 1.0000\n",
      "  🔹 WMD (NILC - Normalizado): 0.9605\n",
      "------------------------------------------------------------\n",
      "Target: PC rápido | Previsto: notebook veloz\n",
      "  🔹 FuzzyWuzzy: 0.2200\n",
      "  🔹 Similaridade Cosseno (TF-IDF): 0.0000\n",
      "  🔹 Similaridade SBERT: 0.2839\n",
      "  🔹 WMD (FastText - Normalizado): 0.0000\n",
      "  🔹 WMD (NILC - Normalizado): 0.2957\n",
      "------------------------------------------------------------\n",
      "Target: assento de madeira | Previsto: cadeira de madeira\n",
      "  🔹 FuzzyWuzzy: 0.7400\n",
      "  🔹 Similaridade Cosseno (TF-IDF): 0.5730\n",
      "  🔹 Similaridade SBERT: 0.7270\n",
      "  🔹 WMD (FastText - Normalizado): 0.6711\n",
      "  🔹 WMD (NILC - Normalizado): 1.0000\n",
      "------------------------------------------------------------\n",
      "Target: gato preto | Previsto: felino escuro\n",
      "  🔹 FuzzyWuzzy: 0.4000\n",
      "  🔹 Similaridade Cosseno (TF-IDF): 0.0000\n",
      "  🔹 Similaridade SBERT: 0.3012\n",
      "  🔹 WMD (FastText - Normalizado): 0.1281\n",
      "  🔹 WMD (NILC - Normalizado): 0.2808\n",
      "------------------------------------------------------------\n",
      "Target: avião grande | Previsto: aeronave gigante\n",
      "  🔹 FuzzyWuzzy: 0.5800\n",
      "  🔹 Similaridade Cosseno (TF-IDF): 0.0000\n",
      "  🔹 Similaridade SBERT: 0.3648\n",
      "  🔹 WMD (FastText - Normalizado): 0.1385\n",
      "  🔹 WMD (NILC - Normalizado): 0.4063\n",
      "------------------------------------------------------------\n",
      "Target: nome de pessoa | Previsto: idade\n",
      "  🔹 FuzzyWuzzy: 0.4000\n",
      "  🔹 Similaridade Cosseno (TF-IDF): 0.0000\n",
      "  🔹 Similaridade SBERT: 0.2102\n",
      "  🔹 WMD (FastText - Normalizado): 0.0031\n",
      "  🔹 WMD (NILC - Normalizado): 0.0000\n",
      "------------------------------------------------------------\n"
     ]
    }
   ],
   "source": [
    "model_sbert = SentenceTransformer(\"paraphrase-MiniLM-L6-v2\")\n",
    "word_vectors_ft = api.load(\"fasttext-wiki-news-subwords-300\")\n",
    "\n",
    "modelo_nilc = \"../word_embeddings/cbow_s300.txt\"\n",
    "word_vectors_nilc = KeyedVectors.load_word2vec_format(modelo_nilc, encoding=\"utf-8\", unicode_errors=\"ignore\")\n",
    "\n",
    "def normalize_wmd(scores):\n",
    "    min_score = min(scores)\n",
    "    max_score = max(scores)\n",
    "    return [(1 - ((s - min_score) / (max_score - min_score))) if max_score != min_score else 1 for s in scores]\n",
    "\n",
    "def calculate_wmd(sentence1, sentence2, model):\n",
    "    sentence1 = sentence1.lower().split()\n",
    "    sentence2 = sentence2.lower().split()\n",
    "    return model.wmdistance(sentence1, sentence2)\n",
    "\n",
    "data = {\n",
    "    \"dados\": [\n",
    "        {\"target\": \"automóvel azul\", \"previsto\": \"veículo azul\"},\n",
    "        {\"target\": \"automóvel vermelho\", \"previsto\": \"veículo vermelho\"},\n",
    "        {\"target\": \"PC rápido\", \"previsto\": \"notebook veloz\"},\n",
    "        {\"target\": \"assento de madeira\", \"previsto\": \"cadeira de madeira\"},\n",
    "        {\"target\": \"gato preto\", \"previsto\": \"felino escuro\"},\n",
    "        {\"target\": \"avião grande\", \"previsto\": \"aeronave gigante\"},\n",
    "        {\"target\": \"nome de pessoa\", \"previsto\": \"idade\"},\n",
    "    ]\n",
    "}\n",
    "\n",
    "wmd_scores_ft = []\n",
    "wmd_scores_nilc = []\n",
    "\n",
    "for item in data[\"dados\"]:\n",
    "    wmd_scores_ft.append(calculate_wmd(item[\"target\"], item[\"previsto\"], word_vectors_ft))\n",
    "    wmd_scores_nilc.append(calculate_wmd(item[\"target\"], item[\"previsto\"], word_vectors_nilc))\n",
    "\n",
    "wmd_scores_ft = normalize_wmd(wmd_scores_ft)\n",
    "wmd_scores_nilc = normalize_wmd(wmd_scores_nilc)\n",
    "\n",
    "targets = [item[\"target\"] for item in data[\"dados\"]]\n",
    "predictions = [item[\"previsto\"] for item in data[\"dados\"]]\n",
    "\n",
    "vectorizer = TfidfVectorizer()\n",
    "tfidf_matrix = vectorizer.fit_transform(targets + predictions)\n",
    "\n",
    "for i, item in enumerate(data[\"dados\"]):\n",
    "    target = item[\"target\"]\n",
    "    predicted = item[\"previsto\"]\n",
    "\n",
    "    fuzzy_score = fuzz.partial_ratio(target, predicted) / 100  \n",
    "\n",
    "    cosine_sim = cosine_similarity(tfidf_matrix[i], tfidf_matrix[i + len(targets)])[0][0]\n",
    "\n",
    "    embedding1 = model_sbert.encode(target, convert_to_tensor=True)\n",
    "    embedding2 = model_sbert.encode(predicted, convert_to_tensor=True)\n",
    "    sbert_score = util.pytorch_cos_sim(embedding1, embedding2).item()\n",
    "\n",
    "    wmd_score_ft = wmd_scores_ft[i]\n",
    "    wmd_score_nilc = wmd_scores_nilc[i]\n",
    "\n",
    "    print(f\"Target: {target} | Previsto: {predicted}\")\n",
    "    print(f\"  🔹 FuzzyWuzzy: {fuzzy_score:.4f}\")\n",
    "    print(f\"  🔹 Similaridade Cosseno (TF-IDF): {cosine_sim:.4f}\")\n",
    "    print(f\"  🔹 Similaridade SBERT: {sbert_score:.4f}\")\n",
    "    print(f\"  🔹 WMD (FastText - Normalizado): {wmd_score_ft:.4f}\")\n",
    "    print(f\"  🔹 WMD (NILC - Normalizado): {wmd_score_nilc:.4f}\")\n",
    "    print(\"-\" * 60)"
   ]
  }
 ],
 "metadata": {
  "kernelspec": {
   "display_name": "Python 3",
   "language": "python",
   "name": "python3"
  },
  "language_info": {
   "codemirror_mode": {
    "name": "ipython",
    "version": 3
   },
   "file_extension": ".py",
   "mimetype": "text/x-python",
   "name": "python",
   "nbconvert_exporter": "python",
   "pygments_lexer": "ipython3",
   "version": "3.12.8"
  }
 },
 "nbformat": 4,
 "nbformat_minor": 2
}
