{
 "cells": [
  {
   "cell_type": "code",
   "execution_count": null,
   "metadata": {},
   "outputs": [],
   "source": [
    "import json\n",
    "from fuzzywuzzy import fuzz\n",
    "from sklearn.feature_extraction.text import TfidfVectorizer\n",
    "from sklearn.metrics.pairwise import cosine_similarity\n",
    "from sentence_transformers import SentenceTransformer, util\n",
    "from gensim.models import KeyedVectors\n",
    "import gensim.downloader as api\n",
    "import pandas as pd"
   ]
  },
  {
   "cell_type": "code",
   "execution_count": 2,
   "metadata": {},
   "outputs": [],
   "source": [
    "data = []\n",
    "\n",
    "with open(\"example.json\", \"r\", encoding=\"utf-8\") as file:\n",
    "    data = json.load(file)"
   ]
  },
  {
   "cell_type": "code",
   "execution_count": 3,
   "metadata": {},
   "outputs": [
    {
     "name": "stdout",
     "output_type": "stream",
     "text": [
      "{'dados': [{'entrada': 'carro azul', 'target': 'automóvel azul', 'previsto': 'veículo azul'}, {'entrada': 'computador potente', 'target': 'PC rápido', 'previsto': 'notebook veloz'}, {'entrada': 'banco de madeira', 'target': 'assento de madeira', 'previsto': 'cadeira de madeira'}]}\n"
     ]
    }
   ],
   "source": [
    "print(data)"
   ]
  },
  {
   "cell_type": "markdown",
   "metadata": {},
   "source": [
    "# FuzzyWuzzy (Fuzzy String Matching)\n",
    "\n",
    "🔹 O que é?\n",
    "\n",
    "FuzzyWuzzy usa a **distância de Levenshtein** para medir a semelhança entre duas cadeias de texto.\n",
    "\n",
    "🔹 Como funciona?\n",
    "\n",
    "Conta quantas operações (inserção, remoção ou substituição de caracteres) são necessárias para transformar uma string na outra.\n",
    "Retorna um valor de 0 a 100, onde 100 significa textos idênticos."
   ]
  },
  {
   "cell_type": "code",
   "execution_count": 4,
   "metadata": {},
   "outputs": [
    {
     "name": "stdout",
     "output_type": "stream",
     "text": [
      "Target: automóvel azul | Previsto: veículo azul | Similaridade: 70%\n",
      "Target: PC rápido | Previsto: notebook veloz | Similaridade: 22%\n",
      "Target: assento de madeira | Previsto: cadeira de madeira | Similaridade: 74%\n"
     ]
    }
   ],
   "source": [
    "for item in data[\"dados\"]:\n",
    "    score = fuzz.partial_ratio(item[\"target\"], item[\"previsto\"])\n",
    "    print(f\"Target: {item['target']} | Previsto: {item['previsto']} | Similaridade: {score}%\")"
   ]
  },
  {
   "cell_type": "markdown",
   "metadata": {},
   "source": [
    "# Similaridade de Cosseno (TF-IDF)\n",
    "\n",
    "🔹 O que é?\n",
    "\n",
    "Mede o ângulo entre vetores que representam os textos. Quanto menor o ângulo, mais parecidas são as frases.\n",
    "\n",
    "🔹 Como funciona?\n",
    "\n",
    "Representa cada frase como um vetor numérico usando TF-IDF.\n",
    "Calcula o cosseno do ângulo entre os vetores.\n",
    "Retorna um valor de 0 a 1, onde 1 significa frases idênticas."
   ]
  },
  {
   "cell_type": "code",
   "execution_count": 5,
   "metadata": {},
   "outputs": [
    {
     "name": "stdout",
     "output_type": "stream",
     "text": [
      "Target: automóvel azul | Previsto: veículo azul | Similaridade: 0.40\n",
      "Target: PC rápido | Previsto: notebook veloz | Similaridade: 0.00\n",
      "Target: assento de madeira | Previsto: cadeira de madeira | Similaridade: 0.57\n"
     ]
    }
   ],
   "source": [
    "targets = [item[\"target\"] for item in data[\"dados\"]]\n",
    "predictions = [item[\"previsto\"] for item in data[\"dados\"]]\n",
    "\n",
    "vectorizer = TfidfVectorizer()\n",
    "tfidf_matrix = vectorizer.fit_transform(targets + predictions)\n",
    "\n",
    "for i in range(len(targets)):\n",
    "    similarity = cosine_similarity(tfidf_matrix[i], tfidf_matrix[i + len(targets)])[0][0]\n",
    "    print(f\"Target: {targets[i]} | Previsto: {predictions[i]} | Similaridade: {similarity:.2f}\")"
   ]
  },
  {
   "cell_type": "markdown",
   "metadata": {},
   "source": [
    "# Sentence Transformer (SBERT)\n",
    "\n",
    "🔹 O que é?\n",
    "\n",
    "SentenceTransformer usa modelos baseados em BERT para transformar frases em vetores numéricos de alta dimensão. Depois, podemos calcular a similaridade de cosseno entre esses vetores para medir o quão parecidas as frases são.\n",
    "\n",
    "🔹 Como funciona?\n",
    "\n",
    "Converte frases em vetores (embeddings).\n",
    "Usa similaridade de cosseno para medir a relação entre elas.\n",
    "Valores mais próximos de 1 indicam frases semelhantes."
   ]
  },
  {
   "cell_type": "code",
   "execution_count": 6,
   "metadata": {},
   "outputs": [
    {
     "name": "stdout",
     "output_type": "stream",
     "text": [
      "Target: automóvel azul | Previsto: veículo azul | Similaridade: 0.77\n",
      "Target: PC rápido | Previsto: notebook veloz | Similaridade: 0.49\n",
      "Target: assento de madeira | Previsto: cadeira de madeira | Similaridade: 0.81\n"
     ]
    }
   ],
   "source": [
    "model = SentenceTransformer(\"tgsc/sentence-transformer-ult5-pt-small\")\n",
    "\n",
    "for item in data[\"dados\"]:\n",
    "    embedding1 = model.encode(item[\"target\"], convert_to_tensor=True)\n",
    "    embedding2 = model.encode(item[\"previsto\"], convert_to_tensor=True)\n",
    "    similarity = util.pytorch_cos_sim(embedding1, embedding2).item()\n",
    "    \n",
    "    print(f\"Target: {item['target']} | Previsto: {item['previsto']} | Similaridade: {similarity:.2f}\")"
   ]
  },
  {
   "cell_type": "markdown",
   "metadata": {},
   "source": [
    "# Word Mover’s Distance (WMD)\n",
    "\n",
    "🔹 O que é?\n",
    "\n",
    "Usa Word Embeddings para calcular a menor \"distância\" que as palavras de uma frase precisam \"caminhar\" para se tornarem outra frase.\n",
    "\n",
    "🔹 Como funciona?\n",
    "\n",
    "Representa palavras como vetores de um modelo de linguagem (ex: Word2Vec, FastText).\n",
    "Mede o custo de \"mover\" palavras da frase A para a frase B.\n",
    "Quanto menor o valor, mais semelhantes as frases."
   ]
  },
  {
   "cell_type": "code",
   "execution_count": 7,
   "metadata": {},
   "outputs": [
    {
     "name": "stdout",
     "output_type": "stream",
     "text": [
      "Target: automóvel azul | Previsto: veículo azul | WMD: 0.0000\n",
      "Target: PC rápido | Previsto: notebook veloz | WMD: 1.0569\n",
      "Target: assento de madeira | Previsto: cadeira de madeira | WMD: 0.3476\n"
     ]
    }
   ],
   "source": [
    "word_vectors = api.load(\"fasttext-wiki-news-subwords-300\")\n",
    "\n",
    "def calculate_wmd(sentence1, sentence2, model):\n",
    "    sentence1 = sentence1.lower().split()\n",
    "    sentence2 = sentence2.lower().split()\n",
    "    return model.wmdistance(sentence1, sentence2)\n",
    "\n",
    "for item in data[\"dados\"]:\n",
    "    wmd_score = calculate_wmd(item[\"target\"], item[\"previsto\"], word_vectors)\n",
    "    print(f\"Target: {item['target']} | Previsto: {item['previsto']} | WMD: {wmd_score:.4f}\")"
   ]
  },
  {
   "cell_type": "code",
   "execution_count": 8,
   "metadata": {},
   "outputs": [
    {
     "name": "stdout",
     "output_type": "stream",
     "text": [
      "Target: automóvel azul | Previsto: veículo azul | WMD: 0.3304\n",
      "Target: PC rápido | Previsto: notebook veloz | WMD: 0.9328\n",
      "Target: assento de madeira | Previsto: cadeira de madeira | WMD: 0.2947\n"
     ]
    }
   ],
   "source": [
    "#http://143.107.183.175:22980/download.php?file=embeddings/fasttext/cbow_s300.zip\n",
    "\n",
    "modelo_nilc = \"../word_embeddings/cbow_s300.txt\"\n",
    "word_vectors = KeyedVectors.load_word2vec_format(modelo_nilc, encoding=\"utf-8\", unicode_errors=\"ignore\")\n",
    "\n",
    "def calculate_wmd(sentence1, sentence2, model):\n",
    "    sentence1 = sentence1.lower().split()\n",
    "    sentence2 = sentence2.lower().split()\n",
    "    return model.wmdistance(sentence1, sentence2)\n",
    "\n",
    "for item in data[\"dados\"]:\n",
    "    wmd_score = calculate_wmd(item[\"target\"], item[\"previsto\"], word_vectors)\n",
    "    print(f\"Target: {item['target']} | Previsto: {item['previsto']} | WMD: {wmd_score:.4f}\")"
   ]
  },
  {
   "cell_type": "markdown",
   "metadata": {},
   "source": [
    "🔹 Se você quer comparar textos curtos, use FuzzyWuzzy ou Levenshtein.\n",
    "\n",
    "🔹 Se quiser entender o contexto, WMD e Word Embeddings são as melhores opções.\n",
    "\n",
    "🔹 Para analisar grandes textos, TF-IDF + Similaridade de Cosseno é eficiente."
   ]
  },
  {
   "cell_type": "code",
   "execution_count": 9,
   "metadata": {},
   "outputs": [],
   "source": [
    "model_sbert = SentenceTransformer(\"tgsc/sentence-transformer-ult5-pt-small\")\n",
    "word_vectors_ft = api.load(\"fasttext-wiki-news-subwords-300\")\n",
    "\n",
    "modelo_nilc = \"../word_embeddings/cbow_s300.txt\"\n",
    "word_vectors_nilc = KeyedVectors.load_word2vec_format(modelo_nilc, encoding=\"utf-8\", unicode_errors=\"ignore\")\n",
    "\n",
    "def normalize_wmd(scores):\n",
    "    min_score = min(scores)\n",
    "    max_score = max(scores)\n",
    "    return [(1 - ((s - min_score) / (max_score - min_score))) if max_score != min_score else 1 for s in scores]\n",
    "\n",
    "def calculate_wmd(sentence1, sentence2, model):\n",
    "    sentence1 = sentence1.lower().split()\n",
    "    sentence2 = sentence2.lower().split()\n",
    "    return model.wmdistance(sentence1, sentence2)\n",
    "\n",
    "data = {\n",
    "    \"dados\": [\n",
    "        {\"key\": \"veículo\", \"target\": \"automóvel azul\", \"previsto\": \"veículo azul\"},\n",
    "        {\"key\": \"veículo\", \"target\": \"automóvel vermelho\", \"previsto\": \"veículo vermelho\"},\n",
    "        {\"key\": \"objeto\", \"target\": \"PC rápido\", \"previsto\": \"notebook veloz\"},\n",
    "        {\"key\": \"objeto\", \"target\": \"assento de madeira\", \"previsto\": \"cadeira de madeira\"},\n",
    "        {\"key\": \"animal\", \"target\": \"gato preto\", \"previsto\": \"felino escuro\"},\n",
    "        {\"key\": \"veículo\", \"target\": \"avião grande\", \"previsto\": \"aeronave gigante\"},\n",
    "        {\"key\": \"outros\", \"target\": \"nome de pessoa\", \"previsto\": \"idade\"},\n",
    "    ]\n",
    "}\n",
    "\n",
    "wmd_scores_ft = []\n",
    "wmd_scores_nilc = []\n",
    "\n",
    "for item in data[\"dados\"]:\n",
    "    wmd_scores_ft.append(calculate_wmd(item[\"target\"], item[\"previsto\"], word_vectors_ft))\n",
    "    wmd_scores_nilc.append(calculate_wmd(item[\"target\"], item[\"previsto\"], word_vectors_nilc))\n",
    "\n",
    "wmd_scores_ft = normalize_wmd(wmd_scores_ft)\n",
    "wmd_scores_nilc = normalize_wmd(wmd_scores_nilc)\n",
    "\n",
    "targets = [item[\"target\"] for item in data[\"dados\"]]\n",
    "predictions = [item[\"previsto\"] for item in data[\"dados\"]]\n",
    "\n",
    "vectorizer = TfidfVectorizer()\n",
    "tfidf_matrix = vectorizer.fit_transform(targets + predictions)\n",
    "\n",
    "results = []\n",
    "\n",
    "for i, item in enumerate(data[\"dados\"]):\n",
    "    target = item[\"target\"]\n",
    "    predicted = item[\"previsto\"]\n",
    "    key = item[\"key\"]\n",
    "\n",
    "    fuzzy_score = fuzz.partial_ratio(target, predicted) / 100  \n",
    "    cosine_sim = cosine_similarity(tfidf_matrix[i], tfidf_matrix[i + len(targets)])[0][0]\n",
    "    embedding1 = model_sbert.encode(target, convert_to_tensor=True)\n",
    "    embedding2 = model_sbert.encode(predicted, convert_to_tensor=True)\n",
    "    sbert_score = util.pytorch_cos_sim(embedding1, embedding2).item()\n",
    "    wmd_score_ft = wmd_scores_ft[i]\n",
    "    wmd_score_nilc = wmd_scores_nilc[i]\n",
    "\n",
    "    results.append([key, target, predicted, fuzzy_score, cosine_sim, sbert_score, wmd_score_ft, wmd_score_nilc])"
   ]
  },
  {
   "cell_type": "code",
   "execution_count": 10,
   "metadata": {},
   "outputs": [
    {
     "name": "stdout",
     "output_type": "stream",
     "text": [
      "|    | Key     | Target             | Previsto           |   FuzzyWuzzy |   TF-IDF |    SBERT |     WMD_FT |   WMD_NILC |\n",
      "|---:|:--------|:-------------------|:-------------------|-------------:|---------:|---------:|-----------:|-----------:|\n",
      "|  0 | veículo | automóvel azul     | veículo azul       |         0.7  | 0.5      | 0.769052 | 1          |   0.960545 |\n",
      "|  1 | veículo | automóvel vermelho | veículo vermelho   |         0.77 | 0.5      | 0.741154 | 1          |   0.960545 |\n",
      "|  2 | objeto  | PC rápido          | notebook veloz     |         0.22 | 0        | 0.485808 | 0          |   0.295676 |\n",
      "|  3 | objeto  | assento de madeira | cadeira de madeira |         0.74 | 0.573043 | 0.807657 | 0.671087   |   1        |\n",
      "|  4 | animal  | gato preto         | felino escuro      |         0.4  | 0        | 0.433241 | 0.128127   |   0.280824 |\n",
      "|  5 | veículo | avião grande       | aeronave gigante   |         0.58 | 0        | 0.694226 | 0.13847    |   0.406336 |\n",
      "|  6 | outros  | nome de pessoa     | idade              |         0.4  | 0        | 0.188818 | 0.00305905 |   0        |\n"
     ]
    }
   ],
   "source": [
    "df = pd.DataFrame(results, columns=[\"Key\", \"Target\", \"Previsto\", \"FuzzyWuzzy\", \"TF-IDF\", \"SBERT\", \"WMD_FT\", \"WMD_NILC\"])\n",
    "print(df.to_markdown())"
   ]
  },
  {
   "cell_type": "code",
   "execution_count": 11,
   "metadata": {},
   "outputs": [
    {
     "name": "stdout",
     "output_type": "stream",
     "text": [
      "|    | Key     |   FuzzyWuzzy |   TF-IDF |    SBERT |     WMD_FT |   WMD_NILC |\n",
      "|---:|:--------|-------------:|---------:|---------:|-----------:|-----------:|\n",
      "|  0 | animal  |     0.4      | 0        | 0.433241 | 0.128127   |   0.280824 |\n",
      "|  1 | objeto  |     0.48     | 0.286521 | 0.646732 | 0.335543   |   0.647838 |\n",
      "|  2 | outros  |     0.4      | 0        | 0.188818 | 0.00305905 |   0        |\n",
      "|  3 | veículo |     0.683333 | 0.333333 | 0.734811 | 0.712823   |   0.775809 |\n"
     ]
    }
   ],
   "source": [
    "grouped_scores = df.groupby(\"Key\")[['FuzzyWuzzy', 'TF-IDF', 'SBERT', 'WMD_FT', 'WMD_NILC']].mean().reset_index()\n",
    "print(grouped_scores.to_markdown())"
   ]
  },
  {
   "cell_type": "code",
   "execution_count": 13,
   "metadata": {},
   "outputs": [
    {
     "name": "stdout",
     "output_type": "stream",
     "text": [
      "| Métrica    |   Score Geral |\n",
      "|:-----------|--------------:|\n",
      "| FuzzyWuzzy |      0.544286 |\n",
      "| TF-IDF     |      0.22472  |\n",
      "| SBERT      |      0.588565 |\n",
      "| WMD_FT     |      0.420106 |\n",
      "| WMD_NILC   |      0.557704 |\n"
     ]
    }
   ],
   "source": [
    "general_score = df[['FuzzyWuzzy', 'TF-IDF', 'SBERT', 'WMD_FT', 'WMD_NILC']].mean()\n",
    "general_score_df = general_score.reset_index()\n",
    "general_score_df.columns = [\"Métrica\", \"Score Geral\"]\n",
    "\n",
    "print(general_score_df.to_markdown(index=False))"
   ]
  }
 ],
 "metadata": {
  "kernelspec": {
   "display_name": "Python 3",
   "language": "python",
   "name": "python3"
  },
  "language_info": {
   "codemirror_mode": {
    "name": "ipython",
    "version": 3
   },
   "file_extension": ".py",
   "mimetype": "text/x-python",
   "name": "python",
   "nbconvert_exporter": "python",
   "pygments_lexer": "ipython3",
   "version": "3.12.8"
  }
 },
 "nbformat": 4,
 "nbformat_minor": 2
}
