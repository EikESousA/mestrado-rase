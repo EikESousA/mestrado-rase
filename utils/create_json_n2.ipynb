{
 "cells": [
  {
   "cell_type": "code",
   "execution_count": 1,
   "metadata": {},
   "outputs": [],
   "source": [
    "import json\n",
    "import os"
   ]
  },
  {
   "cell_type": "code",
   "execution_count": null,
   "metadata": {},
   "outputs": [],
   "source": [
    "def create_json_n2(json_n1_path: str, json_n2_path: str):\n",
    "    \"\"\"\n",
    "    Lê o arquivo json_n1, verifica se json_n2 existe e atualiza com novos dados se necessário.\n",
    "    \n",
    "    - Se json_n2 não existir, cria um novo arquivo.\n",
    "    - Se json_n2 já existir, verifica se os valores de 'text' e 'transform' já existem.\n",
    "    - Caso os valores não existam, adiciona-os ao json_n2 com os campos adicionais vazios.\n",
    "    \n",
    "    Parâmetros:\n",
    "        json_n1_path (str): Caminho do arquivo json_n1.\n",
    "        json_n2_path (str): Caminho do arquivo json_n2.\n",
    "    \"\"\"\n",
    "\n",
    "    try:\n",
    "        with open(json_n1_path, 'r', encoding='utf-8') as file:\n",
    "            json_n1 = json.load(file)\n",
    "    except FileNotFoundError:\n",
    "        print(\"Erro: Arquivo json_n1 não encontrado.\")\n",
    "        return\n",
    "    except json.JSONDecodeError:\n",
    "        print(\"Erro: Falha ao decodificar json_n1.\")\n",
    "        return\n",
    "    \n",
    "    if os.path.exists(json_n2_path):\n",
    "        try:\n",
    "            with open(json_n2_path, 'r', encoding='utf-8') as file:\n",
    "                json_n2 = json.load(file)\n",
    "        except json.JSONDecodeError:\n",
    "            json_n2 = {\"count\": 0, \"datas\": []}\n",
    "    else:\n",
    "        json_n2 = {\"count\": 0, \"datas\": []}\n",
    "    \n",
    "    existing_entries = {(item[\"text\"], item[\"transform\"]) for item in json_n2[\"datas\"]}\n",
    "    \n",
    "    new_entries = []\n",
    "    for item in json_n1[\"datas\"]:\n",
    "        text = item[\"text\"]\n",
    "        for transform in item[\"texts\"]:\n",
    "            if (text, transform) not in existing_entries:\n",
    "                new_entry = {\n",
    "                    \"text\": text,\n",
    "                    \"transform\": transform,\n",
    "                    \"requisito\": \"\",\n",
    "                    \"aplicabilidade\": \"\",\n",
    "                    \"selecao\": \"\",\n",
    "                    \"execcao\": \"\"\n",
    "                }\n",
    "                new_entries.append(new_entry)\n",
    "    \n",
    "    if new_entries:\n",
    "        json_n2[\"datas\"].extend(new_entries)\n",
    "        json_n2[\"count\"] = len(json_n2[\"datas\"])\n",
    "        \n",
    "        with open(json_n2_path, 'w', encoding='utf-8') as file:\n",
    "            json.dump(json_n2, file, indent=4, ensure_ascii=False)\n",
    "        print(f\"{len(new_entries)} novos itens adicionados ao json_n2.\")\n",
    "    else:\n",
    "        print(\"Nenhum novo item foi adicionado. Todos os dados já existiam em json_n2.\")"
   ]
  },
  {
   "cell_type": "code",
   "execution_count": null,
   "metadata": {},
   "outputs": [
    {
     "name": "stdout",
     "output_type": "stream",
     "text": [
      "80 novos itens adicionados ao json_n2.\n"
     ]
    }
   ],
   "source": [
    "json_n1_path = \"../databases/db_rase_n1.json\"\n",
    "json_n2_path = \"../databases/db_rase_n2.json\"\n",
    "create_json_n2(json_n1_path, json_n2_path)"
   ]
  }
 ],
 "metadata": {
  "kernelspec": {
   "display_name": "Python 3",
   "language": "python",
   "name": "python3"
  },
  "language_info": {
   "codemirror_mode": {
    "name": "ipython",
    "version": 3
   },
   "file_extension": ".py",
   "mimetype": "text/x-python",
   "name": "python",
   "nbconvert_exporter": "python",
   "pygments_lexer": "ipython3",
   "version": "3.12.8"
  }
 },
 "nbformat": 4,
 "nbformat_minor": 2
}
