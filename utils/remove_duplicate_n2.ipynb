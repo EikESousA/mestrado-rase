{
 "cells": [
  {
   "cell_type": "code",
   "execution_count": 1,
   "metadata": {},
   "outputs": [],
   "source": [
    "import json"
   ]
  },
  {
   "cell_type": "code",
   "execution_count": null,
   "metadata": {},
   "outputs": [],
   "source": [
    "def remove_duplicate_n2(json_n2_path: str):\n",
    "    \"\"\"\n",
    "    Remove duplicatas do json_n2, verificando se os campos 'text' e 'transform' são iguais.\n",
    "    \n",
    "    Parâmetros:\n",
    "        json_n2_path (str): Caminho do arquivo json_n2.\n",
    "    \"\"\"\n",
    "\n",
    "    try:\n",
    "        with open(json_n2_path, 'r', encoding='utf-8') as file:\n",
    "            json_n2 = json.load(file)\n",
    "    except FileNotFoundError:\n",
    "        print(\"Erro: Arquivo json_n2 não encontrado.\")\n",
    "        return\n",
    "    except json.JSONDecodeError:\n",
    "        print(\"Erro: Falha ao decodificar json_n2.\")\n",
    "        return\n",
    "    \n",
    "    unique_entries = {}\n",
    "    filtered_datas = []\n",
    "    \n",
    "    for item in json_n2[\"datas\"]:\n",
    "        key = (item[\"text\"], item[\"transform\"])\n",
    "        if key not in unique_entries:\n",
    "            unique_entries[key] = True\n",
    "            filtered_datas.append(item)\n",
    "    \n",
    "    json_n2[\"datas\"] = filtered_datas\n",
    "    json_n2[\"count\"] = len(filtered_datas)\n",
    "    \n",
    "    with open(json_n2_path, 'w', encoding='utf-8') as file:\n",
    "        json.dump(json_n2, file, indent=4, ensure_ascii=False)\n",
    "    \n",
    "    print(f\"Removidas {len(json_n2['datas']) - len(filtered_datas)} duplicatas do json_n2.\")"
   ]
  },
  {
   "cell_type": "code",
   "execution_count": 3,
   "metadata": {},
   "outputs": [
    {
     "name": "stdout",
     "output_type": "stream",
     "text": [
      "Removidas 0 duplicatas do json_n2.\n"
     ]
    }
   ],
   "source": [
    "json_n2_path = \"../databases/db_rase_n2.json\"\n",
    "remove_duplicate_n2(json_n2_path)"
   ]
  }
 ],
 "metadata": {
  "kernelspec": {
   "display_name": "Python 3",
   "language": "python",
   "name": "python3"
  },
  "language_info": {
   "codemirror_mode": {
    "name": "ipython",
    "version": 3
   },
   "file_extension": ".py",
   "mimetype": "text/x-python",
   "name": "python",
   "nbconvert_exporter": "python",
   "pygments_lexer": "ipython3",
   "version": "3.12.8"
  }
 },
 "nbformat": 4,
 "nbformat_minor": 2
}
